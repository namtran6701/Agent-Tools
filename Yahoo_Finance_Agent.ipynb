{
 "cells": [
  {
   "cell_type": "markdown",
   "metadata": {},
   "source": [
    "# Yahoo Finance Agent"
   ]
  },
  {
   "cell_type": "markdown",
   "metadata": {},
   "source": [
    "This notebook goes over how to use yahoo_finance_news tool with an agent and how to retrieve additional financial information from yahoo finance API"
   ]
  },
  {
   "cell_type": "code",
   "execution_count": 182,
   "metadata": {},
   "outputs": [
    {
     "name": "stdout",
     "output_type": "stream",
     "text": [
      "Note: you may need to restart the kernel to use updated packages.\n"
     ]
    },
    {
     "name": "stderr",
     "output_type": "stream",
     "text": [
      "\n",
      "[notice] A new release of pip is available: 24.0 -> 24.2\n",
      "[notice] To update, run: python.exe -m pip install --upgrade pip\n"
     ]
    }
   ],
   "source": [
    "# %pip install --upgrade --quiet  yfinance==0.2.44 langchain-community==0.3.1 langchain-openai==0.2.1 langchain-core==0.3.8 langchain==0.3. pandas pydantic==2.9.1"
   ]
  },
  {
   "cell_type": "code",
   "execution_count": 197,
   "metadata": {},
   "outputs": [
    {
     "name": "stdout",
     "output_type": "stream",
     "text": [
      "yfinance           : 0.2.44\n",
      "langchain          : 0.3.1\n",
      "pandas             : 2.2.3\n",
      "langchain_openai   : 0.2.1\n",
      "langchain_community: 0.3.1\n",
      "json               : 2.0.9\n",
      "langchain_core     : 0.3.8\n",
      "pydantic           : 2.9.1\n",
      "\n"
     ]
    }
   ],
   "source": [
    "%load_ext watermark\n",
    "%watermark --iversions"
   ]
  },
  {
   "cell_type": "markdown",
   "metadata": {},
   "source": [
    "## Setting Up"
   ]
  },
  {
   "cell_type": "code",
   "execution_count": 183,
   "metadata": {},
   "outputs": [
    {
     "data": {
      "text/plain": [
       "True"
      ]
     },
     "execution_count": 183,
     "metadata": {},
     "output_type": "execute_result"
    }
   ],
   "source": [
    "# Standard library imports\n",
    "import os\n",
    "from datetime import datetime\n",
    "\n",
    "# Third-party imports\n",
    "from dotenv import load_dotenv\n",
    "import pandas as pd\n",
    "import yfinance as yf\n",
    "import json\n",
    "\n",
    "# LangChain imports\n",
    "from langchain.agents import AgentExecutor, create_react_agent\n",
    "from langchain_community.tools.yahoo_finance_news import YahooFinanceNewsTool\n",
    "from langchain_core.prompts import PromptTemplate\n",
    "from langchain_openai import AzureChatOpenAI\n",
    "from langchain import hub\n",
    "from langchain_core.documents import Document\n",
    "\n",
    "# Load environment variables\n",
    "load_dotenv(r\"C:\\Lang Graph\\Shared Notebook\\credentials_sf.env\", override=True)\n"
   ]
  },
  {
   "cell_type": "markdown",
   "metadata": {},
   "source": [
    "# Yahoo Finance News"
   ]
  },
  {
   "cell_type": "markdown",
   "metadata": {},
   "source": [
    "## Use AgentExecutor"
   ]
  },
  {
   "cell_type": "markdown",
   "metadata": {},
   "source": [
    "Here we will be using basic React Prompt Template"
   ]
  },
  {
   "cell_type": "code",
   "execution_count": 184,
   "metadata": {},
   "outputs": [],
   "source": [
    "template = '''Answer the following questions as best you can. You have access to the following tools:\n",
    "\n",
    "{tools}\n",
    "\n",
    "Use the following format:\n",
    "\n",
    "Question: the input question you must answer\n",
    "Thought: you should always think about what to do\n",
    "Action: the action to take, should be one of [{tool_names}]\n",
    "Action Input: the input to the action\n",
    "Observation: the result of the action\n",
    "... (this Thought/Action/Action Input/Observation can repeat 1 times)\n",
    "Thought: I now know the final answer\n",
    "Final Answer: the final answer to the original input question\n",
    "\n",
    "Begin!\n",
    "\n",
    "Question: {input}\n",
    "Thought:{agent_scratchpad}'''\n",
    "\n",
    "prompt = PromptTemplate.from_template(template)\n",
    "\n",
    "# llm \n",
    "llm = AzureChatOpenAI(azure_deployment='Agent', temperature= 0)\n",
    "\n",
    "# tools\n",
    "tools = [YahooFinanceNewsTool()]\n",
    "\n",
    "# create an agent \n",
    "agent = create_react_agent(llm, tools, prompt)\n",
    "\n",
    "agent_executor = AgentExecutor(agent = agent, tools = tools)"
   ]
  },
  {
   "cell_type": "code",
   "execution_count": 185,
   "metadata": {},
   "outputs": [
    {
     "data": {
      "text/plain": [
       "{'input': 'What happend with Morgan stanley stock yesterday',\n",
       " 'output': \"Morgan Stanley's stock increased by 0.05% yesterday, closing at $104.57. The company is attracting investor attention and has closed a $750 million climate private equity fund.\"}"
      ]
     },
     "execution_count": 185,
     "metadata": {},
     "output_type": "execute_result"
    }
   ],
   "source": [
    "agent_executor.invoke({'input' : 'What happend with Morgan stanley stock yesterday'})"
   ]
  },
  {
   "cell_type": "markdown",
   "metadata": {},
   "source": [
    "This approach works fine, however, it consume more tokens that it is necessary\n",
    "\n",
    "Next, let's try the pydantic approach"
   ]
  },
  {
   "cell_type": "markdown",
   "metadata": {},
   "source": [
    "## Pydantic Approach"
   ]
  },
  {
   "cell_type": "markdown",
   "metadata": {},
   "source": [
    "Here we will define a schema to extract ticker first, then feed it to the tool to look up the news"
   ]
  },
  {
   "cell_type": "code",
   "execution_count": 186,
   "metadata": {},
   "outputs": [],
   "source": [
    "from pydantic import BaseModel, Field"
   ]
  },
  {
   "cell_type": "code",
   "execution_count": 187,
   "metadata": {},
   "outputs": [],
   "source": [
    "# Define a schema \n",
    "class StockTicker(BaseModel):\n",
    "    ticker: str = Field(\n",
    "        description = \"Stock ticker symbol\"\n",
    "    )\n",
    "\n",
    "# instantiate a model \n",
    "llm_ticker = AzureChatOpenAI(azure_deployment='gpt-4o-mini',\n",
    "                      temperature= 0)\n",
    "\n",
    "# structured output \n",
    "structured_llm_ticker = llm_ticker.with_structured_output(StockTicker)\n",
    "\n",
    "\n",
    "# instantiate yahoo news tool \n",
    "\n",
    "tool = YahooFinanceNewsTool()\n",
    "\n",
    "def stock_news(comp_name):\n",
    "    try: \n",
    "        ticker = structured_llm_ticker.invoke(f\"What is the stock ticker symbol for the company regarded in this sentence: {comp_name}?\")\n",
    "        news = tool.invoke(ticker.ticker)\n",
    "        return [Document(page_content=news, metadata={\"source\": f'https://finance.yahoo.com/quote/{ticker.ticker}/news/'})]\n",
    "    except Exception as e: \n",
    "        return [f\"An error occurred during the financial news analysis: {str(e)}\"]"
   ]
  },
  {
   "cell_type": "code",
   "execution_count": 188,
   "metadata": {},
   "outputs": [
    {
     "data": {
      "text/plain": [
       "[Document(metadata={'source': 'https://finance.yahoo.com/quote/MS/news/'}, page_content=\"Morgan Stanley (MS) Ascends While Market Falls: Some Facts to Note\\nMorgan Stanley (MS) concluded the recent trading session at $104.57, signifying a +0.05% move from its prior day's close.\\n\\nMorgan Stanley (MS) Could Be a Great Choice\\nDividends are one of the best benefits to being a shareholder, but finding a great dividend stock is no easy task. Does Morgan Stanley (MS) have what it takes? Let's find out.\\n\\nMorgan Stanley (MS) is Attracting Investor Attention: Here is What You Should Know\\nMorgan Stanley (MS) has been one of the stocks most watched by Zacks.com users lately. So, it is worth exploring what lies ahead for the stock.\\n\\nMorgan Stanley Investment Management Closes 1GT Climate Private Equity Fund at $750 Million\\nNEW YORK, September 30, 2024--Morgan Stanley Investment Management (MSIM) announced today that it has held the final close of the 1GT climate private equity fund (1GT) at $750 million of equity capital commitments. 1GT targets growth-oriented investments in companies in North America and Europe aiming to collectively avoid or remove one gigaton of carbon dioxide-equivalent (CO2e) emissions from the Earth’s atmosphere from the date of investment through 2050. The investor group was led by a numbe\")]"
      ]
     },
     "execution_count": 188,
     "metadata": {},
     "output_type": "execute_result"
    }
   ],
   "source": [
    "stock_news('What happend with Morgan stanley stock yesterday')"
   ]
  },
  {
   "cell_type": "markdown",
   "metadata": {},
   "source": [
    "Since the tool we use YahooFinanceNewsTools only focus on the stock ticker, whatever we put in other than the company name or the ticker does not really matter"
   ]
  },
  {
   "cell_type": "code",
   "execution_count": 189,
   "metadata": {},
   "outputs": [
    {
     "data": {
      "text/plain": [
       "[Document(metadata={'source': 'https://finance.yahoo.com/quote/MS/news/'}, page_content=\"Morgan Stanley (MS) Ascends While Market Falls: Some Facts to Note\\nMorgan Stanley (MS) concluded the recent trading session at $104.57, signifying a +0.05% move from its prior day's close.\\n\\nMorgan Stanley (MS) Could Be a Great Choice\\nDividends are one of the best benefits to being a shareholder, but finding a great dividend stock is no easy task. Does Morgan Stanley (MS) have what it takes? Let's find out.\\n\\nMorgan Stanley (MS) is Attracting Investor Attention: Here is What You Should Know\\nMorgan Stanley (MS) has been one of the stocks most watched by Zacks.com users lately. So, it is worth exploring what lies ahead for the stock.\\n\\nMorgan Stanley Investment Management Closes 1GT Climate Private Equity Fund at $750 Million\\nNEW YORK, September 30, 2024--Morgan Stanley Investment Management (MSIM) announced today that it has held the final close of the 1GT climate private equity fund (1GT) at $750 million of equity capital commitments. 1GT targets growth-oriented investments in companies in North America and Europe aiming to collectively avoid or remove one gigaton of carbon dioxide-equivalent (CO2e) emissions from the Earth’s atmosphere from the date of investment through 2050. The investor group was led by a numbe\")]"
      ]
     },
     "execution_count": 189,
     "metadata": {},
     "output_type": "execute_result"
    }
   ],
   "source": [
    "stock_news('Morgan Stanley')"
   ]
  },
  {
   "cell_type": "markdown",
   "metadata": {},
   "source": [
    "# Financial Research"
   ]
  },
  {
   "cell_type": "markdown",
   "metadata": {},
   "source": [
    "Here we will dive further into the company financial side other beyond recent news"
   ]
  },
  {
   "cell_type": "code",
   "execution_count": 195,
   "metadata": {},
   "outputs": [],
   "source": [
    "def yf_fundamental_analysis(ticker: str):\n",
    "    \"\"\"\n",
    "    Perform a comprehensive fundamental analysis on the given stock symbol.\n",
    "    \n",
    "    Args:\n",
    "        ticker (str): The stock symbol to analyze.\n",
    "    \n",
    "    Returns:\n",
    "        dict: A dictionary with the detailed fundamental analysis results.\n",
    "    \"\"\"\n",
    "    try:\n",
    "        stock = yf.Ticker(ticker)\n",
    "        info = stock.info\n",
    "        \n",
    "        # Data processing\n",
    "        financials = stock.financials.infer_objects(copy=False)\n",
    "        balance_sheet = stock.balance_sheet.infer_objects(copy=False)\n",
    "        cash_flow = stock.cashflow.infer_objects(copy=False)\n",
    "\n",
    "        # Fill missing values\n",
    "        financials = financials.ffill()\n",
    "        balance_sheet = balance_sheet.ffill()\n",
    "        cash_flow = cash_flow.ffill()\n",
    "\n",
    "        # Key Ratios and Metrics\n",
    "        ratios = {\n",
    "            \"P/E Ratio\": info.get('trailingPE'),\n",
    "            \"Forward P/E\": info.get('forwardPE'),\n",
    "            \"P/B Ratio\": info.get('priceToBook'),\n",
    "            \"P/S Ratio\": info.get('priceToSalesTrailing12Months'),\n",
    "            \"PEG Ratio\": info.get('pegRatio'),\n",
    "            \"Debt to Equity\": info.get('debtToEquity'),\n",
    "            \"Current Ratio\": info.get('currentRatio'),\n",
    "            \"Quick Ratio\": info.get('quickRatio'),\n",
    "            \"ROE\": info.get('returnOnEquity'),\n",
    "            \"ROA\": info.get('returnOnAssets'),\n",
    "            \"ROIC\": info.get('returnOnCapital'),\n",
    "            \"Gross Margin\": info.get('grossMargins'),\n",
    "            \"Operating Margin\": info.get('operatingMargins'),\n",
    "            \"Net Profit Margin\": info.get('profitMargins'),\n",
    "            \"Dividend Yield\": info.get('dividendYield'),\n",
    "            \"Payout Ratio\": info.get('payoutRatio'),\n",
    "        }\n",
    "\n",
    "        # Growth Rates\n",
    "        revenue = financials.loc['Total Revenue'] if 'Total Revenue' in financials.index else pd.Series()\n",
    "        net_income = financials.loc['Net Income'] if 'Net Income' in financials.index else pd.Series()\n",
    "        revenue_growth = revenue.pct_change(periods=-1).iloc[0] if len(revenue) > 1 else None\n",
    "        net_income_growth = net_income.pct_change(periods=-1, fill_method=None).iloc[0] if len(net_income) > 1 else None\n",
    "\n",
    "        growth_rates = {\n",
    "            \"Revenue Growth (YoY)\": revenue_growth,\n",
    "            \"Net Income Growth (YoY)\": net_income_growth,\n",
    "        }\n",
    "\n",
    "        # Valuation\n",
    "        market_cap = info.get('marketCap')\n",
    "        enterprise_value = info.get('enterpriseValue')\n",
    "\n",
    "        valuation = {\n",
    "            \"Market Cap\": market_cap,\n",
    "            \"Enterprise Value\": enterprise_value,\n",
    "            \"EV/EBITDA\": info.get('enterpriseToEbitda'),\n",
    "            \"EV/Revenue\": info.get('enterpriseToRevenue'),\n",
    "        }\n",
    "\n",
    "        # Future Estimates\n",
    "        estimates = {\n",
    "            \"Next Year EPS Estimate\": info.get('forwardEps'),\n",
    "            \"Next Year Revenue Estimate\": info.get('revenueEstimates', {}).get('avg'),\n",
    "            \"Long-term Growth Rate\": info.get('longTermPotentialGrowthRate'),\n",
    "        }\n",
    "\n",
    "        # Simple DCF Valuation (very basic)\n",
    "        free_cash_flow = cash_flow.loc['Free Cash Flow'].iloc[0] if 'Free Cash Flow' in cash_flow.index else None\n",
    "        wacc = 0.1  # Assumed Weighted Average Cost of Capital\n",
    "        growth_rate = info.get('longTermPotentialGrowthRate', 0.03)\n",
    "        \n",
    "        def simple_dcf(fcf, growth_rate, wacc, years=5):\n",
    "            if fcf is None or growth_rate is None:\n",
    "                return None\n",
    "            terminal_value = fcf * (1 + growth_rate) / (wacc - growth_rate)\n",
    "            dcf_value = sum([fcf * (1 + growth_rate) ** i / (1 + wacc) ** i for i in range(1, years + 1)])\n",
    "            dcf_value += terminal_value / (1 + wacc) ** years\n",
    "            return dcf_value\n",
    "\n",
    "        dcf_value = simple_dcf(free_cash_flow, growth_rate, wacc)\n",
    "\n",
    "        # Prepare the results\n",
    "        analysis = {\n",
    "            \"Company Name\": info.get('longName'),\n",
    "            \"Sector\": info.get('sector'),\n",
    "            \"Industry\": info.get('industry'),\n",
    "            \"Key Ratios\": ratios,\n",
    "            \"Growth Rates\": growth_rates,\n",
    "            \"Valuation Metrics\": valuation,\n",
    "            \"Future Estimates\": estimates,\n",
    "            \"Simple DCF Valuation\": dcf_value,\n",
    "            \"Last Updated\": datetime.fromtimestamp(info.get('lastFiscalYearEnd', 0)).strftime('%Y-%m-%d'),\n",
    "            \"Data Retrieval Date\": datetime.now().strftime('%Y-%m-%d'),\n",
    "        }\n",
    "\n",
    "        # Add interpretations\n",
    "        interpretations = {}\n",
    "        if ratios.get('P/E Ratio') is not None:\n",
    "            interpretations[\"P/E Ratio\"] = \"High P/E might indicate overvaluation or high growth expectations\" if ratios['P/E Ratio'] > 20 else \"Low P/E might indicate undervaluation or low growth expectations\"\n",
    "        \n",
    "        if ratios.get('Debt to Equity') is not None:\n",
    "            interpretations[\"Debt to Equity\"] = \"High leverage\" if ratios['Debt to Equity'] > 2 else \"Conservative capital structure\"\n",
    "        \n",
    "        if ratios.get('ROE') is not None:\n",
    "            interpretations[\"ROE\"] = \"Strong returns\" if ratios['ROE'] > 0.15 else \"Potential profitability issues\"\n",
    "        \n",
    "        if growth_rates.get('Revenue Growth (YoY)') is not None:\n",
    "            interpretations[\"Revenue Growth\"] = \"Strong growth\" if growth_rates['Revenue Growth (YoY)'] > 0.1 else \"Slowing growth\"\n",
    "\n",
    "        analysis[\"Interpretations\"] = interpretations\n",
    "\n",
    "        return analysis\n",
    "\n",
    "    except Exception as e:\n",
    "        return f\"An error occurred during the analysis: {str(e)}\"\n",
    "    \n",
    "\n",
    "def stock_financial(comp_name):\n",
    "    try: \n",
    "        ticker = structured_llm_ticker.invoke(f\"What is the stock ticker symbol for the company mentioned in the sentence: {comp_name}?\")\n",
    "        financials = yf_fundamental_analysis(ticker.ticker)\n",
    "\n",
    "        # convert the diction to a json string \n",
    "        financials_str = json.dumps(financials, indent = 2)\n",
    "\n",
    "        return [Document(page_content=financials_str, metadata={'source': f\"https://finance.yahoo.com/quote/{ticker.ticker}/financials/\"})]\n",
    "\n",
    "    except Exception as e: \n",
    "        return [f\"An error occured during the financial research analysis: {str(e)}\"]"
   ]
  },
  {
   "cell_type": "code",
   "execution_count": 196,
   "metadata": {},
   "outputs": [
    {
     "data": {
      "text/plain": [
       "[Document(metadata={'source': 'https://finance.yahoo.com/quote/INTC/financials/'}, page_content='{\\n  \"Company Name\": \"Intel Corporation\",\\n  \"Sector\": \"Technology\",\\n  \"Industry\": \"Semiconductors\",\\n  \"Key Ratios\": {\\n    \"P/E Ratio\": 93.35417,\\n    \"Forward P/E\": 20.004465,\\n    \"P/B Ratio\": 0.8314161,\\n    \"P/S Ratio\": 1.7380633,\\n    \"PEG Ratio\": 5.54,\\n    \"Debt to Equity\": 44.032,\\n    \"Current Ratio\": 1.587,\\n    \"Quick Ratio\": 1.079,\\n    \"ROE\": 0.00782,\\n    \"ROA\": 0.00162,\\n    \"ROIC\": null,\\n    \"Gross Margin\": 0.41416,\\n    \"Operating Margin\": -0.07956,\\n    \"Net Profit Margin\": 0.017690001,\\n    \"Dividend Yield\": 0.0221,\\n    \"Payout Ratio\": 2.0833\\n  },\\n  \"Growth Rates\": {\\n    \"Revenue Growth (YoY)\": -0.13997525930155108,\\n    \"Net Income Growth (YoY)\": -0.789243823309209\\n  },\\n  \"Valuation Metrics\": {\\n    \"Market Cap\": 95803785216,\\n    \"Enterprise Value\": 125555843072,\\n    \"EV/EBITDA\": 11.857,\\n    \"EV/Revenue\": 2.278\\n  },\\n  \"Future Estimates\": {\\n    \"Next Year EPS Estimate\": 1.12,\\n    \"Next Year Revenue Estimate\": null,\\n    \"Long-term Growth Rate\": null\\n  },\\n  \"Simple DCF Valuation\": -189326572829.74606,\\n  \"Last Updated\": \"2023-12-29\",\\n  \"Data Retrieval Date\": \"2024-10-07\",\\n  \"Interpretations\": {\\n    \"P/E Ratio\": \"High P/E might indicate overvaluation or high growth expectations\",\\n    \"Debt to Equity\": \"High leverage\",\\n    \"ROE\": \"Potential profitability issues\",\\n    \"Revenue Growth\": \"Slowing growth\"\\n  }\\n}')]"
      ]
     },
     "execution_count": 196,
     "metadata": {},
     "output_type": "execute_result"
    }
   ],
   "source": [
    "stock_financial('intel')"
   ]
  }
 ],
 "metadata": {
  "kernelspec": {
   "display_name": "lang_graph_venv",
   "language": "python",
   "name": "python3"
  },
  "language_info": {
   "codemirror_mode": {
    "name": "ipython",
    "version": 3
   },
   "file_extension": ".py",
   "mimetype": "text/x-python",
   "name": "python",
   "nbconvert_exporter": "python",
   "pygments_lexer": "ipython3",
   "version": "3.12.4"
  }
 },
 "nbformat": 4,
 "nbformat_minor": 2
}
