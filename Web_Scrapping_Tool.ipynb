{
 "cells": [
  {
   "cell_type": "markdown",
   "metadata": {},
   "source": [
    "# Web Searching Tools"
   ]
  },
  {
   "cell_type": "code",
   "execution_count": 128,
   "metadata": {},
   "outputs": [
    {
     "data": {
      "text/plain": [
       "True"
      ]
     },
     "execution_count": 128,
     "metadata": {},
     "output_type": "execute_result"
    }
   ],
   "source": [
    "import os\n",
    "from dotenv import load_dotenv\n",
    "load_dotenv(override=True)"
   ]
  },
  {
   "cell_type": "markdown",
   "metadata": {},
   "source": [
    "In my case, I mostly work with langchain, so I will use the langchain library to load the data.\n",
    "\n",
    "Also, output from langchain wrapper is typically clean and LLM-ready\n"
   ]
  },
  {
   "cell_type": "markdown",
   "metadata": {},
   "source": [
    "## Firecrawl"
   ]
  },
  {
   "cell_type": "markdown",
   "metadata": {},
   "source": [
    "You will need to get your own API key. See https://firecrawl.dev"
   ]
  },
  {
   "cell_type": "code",
   "execution_count": 107,
   "metadata": {},
   "outputs": [],
   "source": [
    "from langchain_community.document_loaders.firecrawl import FireCrawlLoader"
   ]
  },
  {
   "cell_type": "code",
   "execution_count": 108,
   "metadata": {},
   "outputs": [],
   "source": [
    "loader = FireCrawlLoader(url = \"https://www.salesfactory.com/\",\n",
    "                         mode = \"scrape\")"
   ]
  },
  {
   "cell_type": "markdown",
   "metadata": {},
   "source": [
    "### Mode"
   ]
  },
  {
   "cell_type": "markdown",
   "metadata": {},
   "source": [
    "\n",
    " - scrape: Scrape single url and return the markdown.\n",
    " - crawl: Crawl the url and all accessible sub pages and return the markdown for each one.\n",
    " - map: Maps the URL and returns a list of semantically related pages."
   ]
  },
  {
   "cell_type": "code",
   "execution_count": 109,
   "metadata": {},
   "outputs": [],
   "source": [
    "data = loader.load()"
   ]
  },
  {
   "cell_type": "code",
   "execution_count": 110,
   "metadata": {},
   "outputs": [
    {
     "name": "stdout",
     "output_type": "stream",
     "text": [
      "Page content:\n",
      " \n",
      "\n",
      "* * *\n",
      "\n",
      "Retail marketing solutions built for an unpredictable world.\n",
      "============================================================\n",
      "\n",
      "Sales Factory is a data-driven marketing agency that helps brands win by focusing on one thing: selling in and selling through at retail.\n",
      "\n",
      "* * *\n",
      "\n",
      "Sell In. Sell Through.  \n",
      "Win at Retail.\n",
      "---------------------------------------\n",
      "\n",
      "You can't outperform your competitors at retail unless you truly understand how products sell in and sell through. That’s where we stand above the competition – yours and ours. Since 1984, our team has been helping brands get products onto the shelves at brick-and-mortar retail, outsell through e-commerce and optimize products in online stores.\n",
      "\n",
      "Being brave is easier when you know you’re right. Our insights team continuously monitors consumer behavior including in-depth analysis of Trades Professionals. We walk thousands of miles of store aisles annually and manage hundreds of thousands of research respondents with a data driven approach that's helped our clients thrive through economic bubbles and housing crises.\n",
      "\n",
      "![homepage-retail-logos_8_22](https://www.salesfactory.com/hs-fs/hubfs/homepage-retail-logos_8_22.png?width=1411&height=201&name=homepage-retail-logos_8_22.png)\n",
      "\n",
      "* * *\n",
      "\n",
      "Innovation only comes to the relentlessly curious.\n",
      "--------------------------------------------------\n",
      "\n",
      "You can’t sit in an ivory tower and make meaningful breakthroughs. Innovation comes to those who roll up their sleeves and get their hands dirty doing the hard work.\n",
      "\n",
      "We learn who the prospect is by working alongside them, seeing the retail experience through their eyes, and walking many miles in their shoes to understand their pain points. Then we craft a brand experience they’ll love and never forget.\n",
      "\n",
      "* * *\n",
      "\n",
      "Find out how our approach drives sales at retail.\n",
      "-------------------------------------------------\n",
      "\n",
      "![Ready to learn, grow and win at retail?](https://8446995.fs1.hubspotusercontent-na1.net/hub/8446995/hubfs/Spotlight%20-%20Sales%20Factory%20-%20Blue.jpg?width=1500&length=1500&name=Spotlight%20-%20Sales%20Factory%20-%20Blue.jpg)\n",
      "\n",
      "* * *\n",
      "\n",
      "Ready to learn, grow and win at retail?\n",
      "---------------------------------------\n",
      "\n",
      "Energize your brand with brilliance, talent and hard work by tomorrow. We’re ready when you are.\n",
      "\n",
      "[![Let's Talk Solutions](https://no-cache.hubspot.com/cta/default/8446995/800bd6c8-5fcd-4284-afd0-e904ae83503a.png)](https://cta-redirect.hubspot.com/cta/redirect/8446995/800bd6c8-5fcd-4284-afd0-e904ae83503a)\n",
      "\n",
      "* * *\n",
      "\n",
      "We partner with retail brands who can’t wait to learn, grow, and win.\n",
      "---------------------------------------------------------------------\n",
      "\n",
      "We work with retail brands who are relentlessly curious about what really matters – the end user. When consumers deem a retail product essential, from tools to frozen treats, we build solutions that enhance not only the buying experience but also the true measure of a brand – the user experience.\n",
      "\n",
      "Since 1984 we’ve been helping brands evolve, penetrate the right retail shelves, and establish digital dominance to grow sales at retail. Here are just a few of the brands we’ve helped win.\n",
      "\n",
      "![GE_Logo@2x](https://www.salesfactory.com/hubfs/4-GE_Logo@2x.jpg) ![Primo-Vertical-Logo](https://www.salesfactory.com/hubfs/Primo-Vertical-Logo.png) ![Channellock_Logo@2x](https://www.salesfactory.com/hubfs/3-Channellock_Logo@2x.jpg) ![Burts-Bees_Logo@2x](https://www.salesfactory.com/hubfs/6-Burts-Bees_Logo@2x.jpg) ![Rubbermaid_logo@2x](https://www.salesfactory.com/hubfs/Rubbermaid.png) ![Corona_Logo@2x](https://www.salesfactory.com/hubfs/1-Corona_Logo@2x.jpg) ![Fruit of the loom_Logo@2x](https://www.salesfactory.com/hubfs/7-Burts-Bees_Logo@2x.jpg) ![Sherwin-Williams_Logo@2x](https://www.salesfactory.com/hubfs/8-Sherwin-Williams_Logo@2x.jpg) ![Charbroil_Logo@2x](https://www.salesfactory.com/hubfs/9-Charbroil_Logo@2x.jpg) ![John Deere_logo@2x](https://www.salesfactory.com/hubfs/John%20Deere.png) ![Jerzees-Logo](https://www.salesfactory.com/hubfs/Jerzees-Logo.png) ![Simpson Strong Tie_logo@2x](https://www.salesfactory.com/hubfs/Simpson%20Strong%20Tie.png) ![Texas-Pete_Logo@2x](https://www.salesfactory.com/hubfs/13-Texas-Pete_Logo@2x.jpg) ![Life-Straw_Logo@2x](https://www.salesfactory.com/hubfs/14-Life-Straw_Logo@2x.jpg) ![Kohler_logo@2x](https://www.salesfactory.com/hubfs/10-Kohler_logo@2x.jpg)\n",
      "\n",
      "* * *\n",
      "\n",
      "The Retail Learning Center\n",
      "--------------------------\n",
      "\n",
      "The most comprehensive collection of Expert News & Insights about Retail **anywhere**. \n",
      "\n",
      "*   * * *\n",
      "    \n",
      "    20+ Videos\n",
      "*   * * *\n",
      "    \n",
      "    100+ Articles\n",
      "\n",
      "Read one of our latest articles or choose from one of the following topics:\n",
      "\n",
      "*   Product Line Review\n",
      "*   Ecommerce\n",
      "*   Amazon\n",
      "*   Research\n",
      "*   Branding\n",
      "\n",
      "[![Visit Our Learning Center](https://no-cache.hubspot.com/cta/default/8446995/4df05d91-3bb8-4481-bd6c-1d2ffd920d38.png)](https://cta-redirect.hubspot.com/cta/redirect/8446995/4df05d91-3bb8-4481-bd6c-1d2ffd920d38)\n",
      "\n",
      "consumer research\n",
      "\n",
      "![How to Spot High-Quality Consumer Data That Drives Decisions](https://8446995.fs1.hubspotusercontent-na1.net/hub/8446995/hubfs/Data%20-%20SF%20Brand%20Image%20-%20Green.png?width=800&length=800&name=Data%20-%20SF%20Brand%20Image%20-%20Green.png)\n",
      "\n",
      "October 10, 2024\n",
      "\n",
      "* * *\n",
      "\n",
      "[How to Spot High-Quality Consumer Data That Drives Decisions](https://www.salesfactory.com/blog/how-to-spot-high-quality-consumer-data-that-drives-decisions?hsLang=en)\n",
      "\n",
      "-------------------------------------------------------------------------------------------------------------------------------------------------------------------------\n",
      "\n",
      "[Read More](https://www.salesfactory.com/blog/how-to-spot-high-quality-consumer-data-that-drives-decisions?hsLang=en)\n",
      "\n",
      "consumer pulse\n",
      "\n",
      "![Consumer Pulse | October 3, 2024 | Building Trust in the AI Era](https://8446995.fs1.hubspotusercontent-na1.net/hub/8446995/hubfs/Building%20Trust%20in%20AI%20Era-Header.jpg?width=800&length=800&name=Building%20Trust%20in%20AI%20Era-Header.jpg)\n",
      "\n",
      "October 3, 2024\n",
      "\n",
      "* * *\n",
      "\n",
      "[Consumer Pulse | October 3, 2024 | Building Trust in the AI Era](https://www.salesfactory.com/blog/consumer-pulse-trust-in-the-ai-era?hsLang=en)\n",
      "\n",
      "--------------------------------------------------------------------------------------------------------------------------------------------------\n",
      "\n",
      "[Read More](https://www.salesfactory.com/blog/consumer-pulse-trust-in-the-ai-era?hsLang=en)\n",
      "\n",
      "> ![Sales Factory Quote](https://www.salesfactory.com/hubfs/slider-quote.png)\n",
      "> \n",
      "> Having a great product isn’t enough—you need to understand what drives consumer behavior. Through research and category insights, Sales Factory helped us transform an unknown brand into a category leader.\n",
      "> \n",
      "> William Cobb, CEO, Coastal Shower Doors\n",
      "> \n",
      "> [coastalshowerdoors.com](https://coastalshowerdoors.com)\n",
      "\n",
      "> ![Sales Factory Quote](https://www.salesfactory.com/hubfs/slider-quote.png)\n",
      "> \n",
      "> Sales Factory embodies a scrappy, roll-up-your-sleeves, results-first mentality. In the very best way, they are the anti-ad agency.\n",
      "> \n",
      "> Rob Schwing, former Chief Marketing Officer, Char-Broil®\n",
      "> \n",
      "> [charbroil.com](https://charbroil.com)\n",
      "\n",
      "> ![Sales Factory Quote](https://www.salesfactory.com/hubfs/slider-quote.png)\n",
      "> \n",
      "> Having a great product isn’t enough—you need to understand what drives consumer behavior. Through research and category insights, Sales Factory helped us transform an unknown brand into a category leader.\n",
      "> \n",
      "> William Cobb, CEO, Coastal Shower Doors\n",
      "> \n",
      "> [coastalshowerdoors.com](https://coastalshowerdoors.com)\n",
      "\n",
      "> ![Sales Factory Quote](https://www.salesfactory.com/hubfs/slider-quote.png)\n",
      "> \n",
      "> Sales Factory embodies a scrappy, roll-up-your-sleeves, results-first mentality. In the very best way, they are the anti-ad agency.\n",
      "> \n",
      "> Rob Schwing, former Chief Marketing Officer, Char-Broil®\n",
      "> \n",
      "> [charbroil.com](https://charbroil.com)\n",
      "\n",
      "> ![Sales Factory Quote](https://www.salesfactory.com/hubfs/slider-quote.png)\n",
      "> \n",
      "> Having a great product isn’t enough—you need to understand what drives consumer behavior. Through research and category insights, Sales Factory helped us transform an unknown brand into a category leader.\n",
      "> \n",
      "> William Cobb, CEO, Coastal Shower Doors\n",
      "> \n",
      "> [coastalshowerdoors.com](https://coastalshowerdoors.com)\n",
      "\n",
      "> ![Sales Factory Quote](https://www.salesfactory.com/hubfs/slider-quote.png)\n",
      "> \n",
      "> Sales Factory embodies a scrappy, roll-up-your-sleeves, results-first mentality. In the very best way, they are the anti-ad agency.\n",
      "> \n",
      "> Rob Schwing, former Chief Marketing Officer, Char-Broil®\n",
      "> \n",
      "> [charbroil.com](https://charbroil.com)\n",
      "\n",
      "![Sales-Factory-go-go-go-graphic-1](https://www.salesfactory.com/hubfs/Sales-Factory-go-go-go-graphic-1.jpg)\n",
      "\n",
      "* * *\n",
      "\n",
      "We need to talk.\n",
      "----------------\n",
      "\n",
      "Energize your brand with brilliance, talent, and hard work by tomorrow. We’re ready when you are.\n",
      "\n",
      "By clicking the button above, we'll use your info to reach out to you directly and to keep you updated on news, events, and more. You can unsubscribe from these communications at any time. For more info, please review our [Privacy Policy.](https://salesfactory.com/privacy-policy/?hsLang=en)\n"
     ]
    }
   ],
   "source": [
    "# get page content\n",
    "print(\"Page content:\")\n",
    "print(data[0].page_content)"
   ]
  },
  {
   "cell_type": "code",
   "execution_count": 111,
   "metadata": {},
   "outputs": [
    {
     "name": "stdout",
     "output_type": "stream",
     "text": [
      "Metadata:\n",
      "{'title': 'Sales Factory | Growing Home Retail BrandsFollow us on LinkedInFollow us on YouTubeFollow us on FacebookFollow us on InstagramFollow Us On LinkedInFollow us on YouTubeFollow us on FacebookFollow us on Instagram', 'description': 'You need an agency that’s found a better way to connect insights, strategy and creative. From initial business strategy to marketing plan execution, we convert our experience into a win for you.', 'language': 'en', 'ogTitle': 'Sales Factory | Growing Home Retail Brands', 'ogDescription': 'You need an agency that’s found a better way to connect insights, strategy and creative. From initial business strategy to marketing plan execution, we convert our experience into a win for you.', 'ogUrl': 'https://www.salesfactory.com', 'ogImage': 'https://www.salesfactory.com/hubfs/21-SFA-0119-Scoreboard-Image-V2-1.jpg', 'ogLocaleAlternate': [], 'viewport': 'width=device-width, initial-scale=1', 'og:description': 'You need an agency that’s found a better way to connect insights, strategy and creative. From initial business strategy to marketing plan execution, we convert our experience into a win for you.', 'og:title': 'Sales Factory | Growing Home Retail Brands', 'twitter:description': 'You need an agency that’s found a better way to connect insights, strategy and creative. From initial business strategy to marketing plan execution, we convert our experience into a win for you.', 'twitter:title': 'Sales Factory | Growing Home Retail Brands', 'og:image': 'https://www.salesfactory.com/hubfs/21-SFA-0119-Scoreboard-Image-V2-1.jpg', 'og:image:width': '1600', 'og:image:height': '800', 'og:image:alt': 'Sales Factory score board - We keep score because helping our clients win matters', 'twitter:image': 'https://www.salesfactory.com/hubfs/21-SFA-0119-Scoreboard-Image-V2-1.jpg', 'twitter:image:alt': 'Sales Factory score board - We keep score because helping our clients win matters', 'og:url': 'https://www.salesfactory.com', 'twitter:card': 'summary_large_image', 'generator': 'HubSpot', 'sourceURL': 'https://www.salesfactory.com/', 'statusCode': 200}\n"
     ]
    }
   ],
   "source": [
    "print(\"Metadata:\")\n",
    "print(data[0].metadata)\n",
    "\n"
   ]
  },
  {
   "cell_type": "markdown",
   "metadata": {},
   "source": [
    "## DuckDuckGo Search (Free)\n"
   ]
  },
  {
   "cell_type": "markdown",
   "metadata": {},
   "source": [
    "Good to search for general information, but not so real time"
   ]
  },
  {
   "cell_type": "code",
   "execution_count": 112,
   "metadata": {},
   "outputs": [],
   "source": [
    "from langchain_community.tools import DuckDuckGoSearchRun"
   ]
  },
  {
   "cell_type": "code",
   "execution_count": 113,
   "metadata": {},
   "outputs": [
    {
     "data": {
      "text/plain": [
       "'Dallas Weather Forecasts. Weather Underground provides local & long-range weather forecasts, weatherreports, maps & tropical weather conditions for the Dallas area. Dallas/Fort Worth, TX. Fall-Like Temperatures, Rain and Light Snow From the Upper Midwest to the Northeast; Elevated Fire Weather Conditions in the Southern Plains. ... Current conditions at Dallas/Fort Worth International Airport (KDFW) Lat: 32.9°NLon: 97.02°WElev: 541ft. Dallas TX 32.8°N 96.78°W (Elev. 505 ft) Last Update: 3:01 pm CDT Oct 9, 2024. Forecast Valid: 5pm CDT Oct 9, 2024-6pm CDT Oct 16, 2024 . ... Severe Weather ; Current Outlook Maps ; Drought ; Fire Weather ; Fronts/Precipitation Maps ; Current Graphical Forecast Maps ; Rivers ; Marine ; Offshore and High Seas; Hurricanes ; FOX 4 Weather. Dallas Weather: October 11 morning forecast. Hot temperatures for the next couple of days... but, it will start to feel like Fall next week. Plus, updates on new and old hurricanes ... NWS Fort Worth/Dallas. A few locations will be breaking record high temperatures this weekend. This unseasonably hot spell will persist through Sunday as highs attempt to touch the triple digit mark. Make sure to remain vigilant for any heat-related illnesses. Temperatures will soar into the 90s on Saturday, challenging multiple records.'"
      ]
     },
     "execution_count": 113,
     "metadata": {},
     "output_type": "execute_result"
    }
   ],
   "source": [
    "# get basic search information\n",
    "\n",
    "search = DuckDuckGoSearchRun()\n",
    "\n",
    "search.run(\"What is the current weather in Dallas Texas?\")\n"
   ]
  },
  {
   "cell_type": "code",
   "execution_count": 114,
   "metadata": {},
   "outputs": [
    {
     "data": {
      "text/plain": [
       "\"snippet: U.S. Rep. Adam Schiff, D-Calif., called on President Joe Biden to drop out of the 2024 election last Wednesday, becoming the most prominent Democratic lawmaker so far to publicly push for a ..., title: Biden drops out: A timeline of major moments that led to the decision, link: https://www.usatoday.com/story/news/politics/elections/2024/07/22/biden-drops-out-2024-race-timeline/74495115007/, snippet: The cover at left was published on July 21, the day President Joe Biden dropped out of the presidential race; the one at right was published digitally June 28, the day after the first presidential ..., title: Why Joe Biden Dropped Out | TIME, link: https://time.com/7001028/why-joe-biden-stepped-down/, snippet: Thirty-seven congressional Democrats, including independent Sen. Joe Manchin, who previously was in the Democratic Party, had called on Biden to drop out of the 2024 election before he delivered ..., title: President Joe Biden drops out of 2024 presidential race - NBC News, link: https://www.nbcnews.com/politics/2024-election/president-joe-biden-drops-2024-presidential-race-rcna159867, snippet: President Biden, who has long said he ran for the White House in 2020 due to his alarm about former President Donald Trump, decided to exit the 2024 presidential race last month. He says his decision, in part, was driven by his belief that he needed to keep the nation's focus on Trump and unite the Democratic Party ahead of the November ..., title: President Biden explains why he exited 2024 race - Yahoo News, link: https://news.yahoo.com/news/president-biden-explains-why-exited-203349544.html\""
      ]
     },
     "execution_count": 114,
     "metadata": {},
     "output_type": "execute_result"
    }
   ],
   "source": [
    "# to get additional information\n",
    "\n",
    "from langchain_community.tools import DuckDuckGoSearchResults\n",
    "\n",
    "search = DuckDuckGoSearchResults()\n",
    "\n",
    "search.invoke('Why did Biden drop out of the 2024 presidential race?')\n"
   ]
  },
  {
   "cell_type": "code",
   "execution_count": 115,
   "metadata": {},
   "outputs": [
    {
     "data": {
      "text/plain": [
       "\"snippet: Hurricanes don't stop at the coast: Why inland mountain towns are on alert, title: Lake Dallas, TX Current Weather, link: https://www.theweathernetwork.com/en/city/us/texas/lake-dallas/current, date: 2023-05-05T16:43:00+00:00, source: The Weather Network, snippet: DALLAS — TONIGHT: Mainly clear and pleasant ... of local radars near you as well as the latest forecast, cameras and current conditions., title: Much warmer Tuesday afternoon, much cooler Wednesday, link: https://www.wfaa.com/article/weather/forecast/weather-forecast-dallas-fort-worth/287-24264997, date: 2024-10-15T03:29:00+00:00, source: WFAA8, snippet: DALLAS — Officially ... The hottest temps of this current wave of heat will be Friday through Saturday. Highs will be well into the 90s, with heat index values of 100° or higher for most ..., title: DFW Weather: When will it cool down? Not this week, link: https://www.wfaa.com/article/weather/dallas-texas-dfw-weather-forecast-heat-temperatures/287-cde55a0c-6638-4f1b-b3c0-2bed0a746145, date: 2024-09-20T11:16:00+00:00, source: WFAA8, snippet: UT Dallas will send text alerts in the event of an emergency, inclement weather or a disruption in normal University operations. Messages from 89361 will be sent to the mobile telephone number listed in the records of students, faculty and staff members., title: UTD Alert, link: https://www.utdallas.edu/textme/, date: 2022-10-31T16:23:00+00:00, source: University of Texas at Dallas\""
      ]
     },
     "execution_count": 115,
     "metadata": {},
     "output_type": "execute_result"
    }
   ],
   "source": [
    "# get news information\n",
    "\n",
    "search = DuckDuckGoSearchResults(backend = \"news\") # much more up to date \n",
    "\n",
    "search.invoke(\"What is the current weather in Dallas Texas?\")\n"
   ]
  },
  {
   "cell_type": "markdown",
   "metadata": {},
   "source": [
    "You can also directly pass a custom DuckDuckGoSearchAPIWrapper to DuckDuckGoSearchResults to provide more control over the search results. This seems like the best way to control search results from DuckDuckGo"
   ]
  },
  {
   "cell_type": "code",
   "execution_count": 116,
   "metadata": {},
   "outputs": [
    {
     "data": {
      "text/plain": [
       "\"snippet: That's the premise behind the iPhone 16 Camera Control button, but as a confident photographer, it doesn't really do that for me. What Camera Control lacks is the ability to customize it., title: I tried the iPhone 16 Camera Control button and I hope Android phones ..., link: https://www.tomsguide.com/phones/iphones/i-tried-the-iphone-16-camera-control-button-and-i-hope-android-phones-dont-copy-it-heres-why, snippet: The iPhone 16 Pro comes with a 6.3-inch LTPO Super Retina XDR OLED display. It supports HDR10, Dolby Vision, and a 120Hz refresh rate, with brightness levels reaching 2000 nits for outdoor ..., title: iPhone 16 Pro vs. Xiaomi 14 Pro: Which is Better and Why?, link: https://www.gizmochina.com/2024/10/17/iphone-16-pro-vs-xiaomi-14-pro-which-is-better-and-why/, snippet: Unter der Haube steckt eine neue Generation der Apple-eigenen Prozessoren: der A18 (im iPhone 16 und iPhone 16 Plus) und der A18 Pro in den Pro-Modellen. Unser Test zeigt, wie die neue tech\\xadnische Ausstattung wirkt. Angebot auswählen und weiterlesen. Stiftung Warentest: Unabhängig. Objektiv. Unbestechlich., title: iPhone 16 im Schnell\\xadtest So gut sind Apples neue Smartphones, link: https://www.test.de/iPhone-16-im-Schnelltest-So-gut-sind-Apples-neue-Smartphones-6161196-0/, snippet: Touch screen issues in new iPhone 16 pro max, not sensitive enough, with or without screen protector. Why haven't there been updates for the screen issues on iPhone 16's? Are others still experiencing delayed touches or non-responsive touch on the screens? Show more Less., title: Touch screen issues in new iPhone 16 pro … - Apple Community, link: https://discussions.apple.com/thread/255805745\""
      ]
     },
     "execution_count": 116,
     "metadata": {},
     "output_type": "execute_result"
    }
   ],
   "source": [
    "from langchain_community.utilities import DuckDuckGoSearchAPIWrapper\n",
    "\n",
    "wrapper = DuckDuckGoSearchAPIWrapper(region=\"us-en\", time=\"d\", max_results=2) # time limit to \"d, w, m , y. Default to none\"\n",
    "\n",
    "search = DuckDuckGoSearchResults(api_wrapper=wrapper, source=\"news\")\n",
    "\n",
    "search.invoke(\"iphone 16\")"
   ]
  },
  {
   "cell_type": "markdown",
   "metadata": {},
   "source": [
    "## Wikipedia"
   ]
  },
  {
   "cell_type": "code",
   "execution_count": 117,
   "metadata": {},
   "outputs": [],
   "source": [
    "from langchain_community.retrievers import WikipediaRetriever\n",
    "\n",
    "retriever = WikipediaRetriever(doc_content_chars_max=2000, lang = \"en\", top_k_results=2, load_all_available_meta=False)"
   ]
  },
  {
   "cell_type": "code",
   "execution_count": 118,
   "metadata": {},
   "outputs": [],
   "source": [
    "data = retriever.invoke(\"iphone 16\")"
   ]
  },
  {
   "cell_type": "code",
   "execution_count": 119,
   "metadata": {},
   "outputs": [
    {
     "name": "stdout",
     "output_type": "stream",
     "text": [
      "{'title': 'IPhone 16', 'summary': 'The iPhone 16  and iPhone 16 Plus are smartphones developed and marketed by Apple Inc. They are the eighteenth-generation iPhones, succeeding the iPhone 15 and iPhone 15 Plus. The devices were unveiled alongside the higher-priced iPhone 16 Pro and 16 Pro Max during the September 9, 2024 Apple Event at Apple Park in Cupertino, California.', 'source': 'https://en.wikipedia.org/wiki/IPhone_16'}\n"
     ]
    }
   ],
   "source": [
    "# metadata\n",
    "print(data[0].metadata)\n"
   ]
  },
  {
   "cell_type": "code",
   "execution_count": 120,
   "metadata": {},
   "outputs": [
    {
     "name": "stdout",
     "output_type": "stream",
     "text": [
      "The iPhone 16  and iPhone 16 Plus are smartphones developed and marketed by Apple Inc. They are the eighteenth-generation iPhones, succeeding the iPhone 15 and iPhone 15 Plus. The devices were unveiled alongside the higher-priced iPhone 16 Pro and 16 Pro Max during the September 9, 2024 Apple Event at Apple Park in Cupertino, California.\n",
      "\n",
      "\n",
      "== History ==\n",
      "The devices were unveiled during an event on September 9, 2024, marking the first time an iPhone release had been announced on a Monday.\n",
      "\n",
      "\n",
      "== Design ==\n",
      "Like the iPhone 15, the device features rounded edges, a slightly curved display, and back glass.\n",
      "\n",
      "\n",
      "=== Display ===\n",
      "The iPhone 16 and iPhone 16 Plus retain their screen sizes of 6.1 inches and 6.7 inches, respectively. They feature a bezel-less, full-edge screen design with no visible borders.\n",
      "\n",
      "\n",
      "=== Camera ===\n",
      "\n",
      "A more refined quad-lens array on the back, possibly with 48 MP ultra-wide camera\n",
      "Improved computational photography for real-time lighting adjustments, higher resolution videos, and enhanced night mode.\n",
      "\n",
      "\n",
      "=== Colors ===\n",
      "The iPhone 16 and 16 Plus come in five new colors: Ultramarine, Teal, Pink, White and Black.\n",
      "\n",
      "\n",
      "=== Hardware ===\n",
      "The iPhone 16 and the iPhone 16 Plus use an Apple A18 system on a chip. The chip is optimized for running Generative artificial intelligence and features a Neural Engine that is twice as fast as its predecessor.\n",
      "The iPhone 16 includes an updated 48-megapixel Fusion camera, the same resolution as the iPhone 15, with 2 μm, quad pixel PDAF, sensor-shift OIS, 100% Focus Pixels, support for super-high-resolution photos (24MP and 48MP). It has a new ultrawide camera with a wider aperture, automatic focus and 1.4 μm, 100% Focus Pixels. \n",
      "All ‌iPhone 16‌ models have an improved thermal design. The main logic board has been updated, centralizing chip placement and optimizing the surrounding architecture. The recycled aluminum substructure dissipates heat for up to 30 percent higher sustained performance for gaming.\n",
      "Every model in the iPhone 16 \n"
     ]
    }
   ],
   "source": [
    "# content\n",
    "print(data[0].page_content)\n"
   ]
  },
  {
   "cell_type": "markdown",
   "metadata": {},
   "source": [
    "## Google Serper"
   ]
  },
  {
   "cell_type": "code",
   "execution_count": 121,
   "metadata": {},
   "outputs": [],
   "source": [
    "from langchain_core.documents import Document"
   ]
  },
  {
   "cell_type": "code",
   "execution_count": 122,
   "metadata": {},
   "outputs": [],
   "source": [
    "from langchain_community.utilities import GoogleSerperAPIWrapper\n",
    "\n",
    "google_serper = GoogleSerperAPIWrapper(k = 4, type=\"search\") # param type: Literal['news', 'search', 'places', 'images'] = 'search'\n"
   ]
  },
  {
   "cell_type": "code",
   "execution_count": 123,
   "metadata": {},
   "outputs": [],
   "source": [
    "google_result =google_serper.results('Where is China?')\n"
   ]
  },
  {
   "cell_type": "code",
   "execution_count": 127,
   "metadata": {},
   "outputs": [],
   "source": [
    "# reformat the result\n",
    "def ggsearch_reformat(result):\n",
    "    \"\"\"\n",
    "    Reformats Google search results into a list of Document objects.\n",
    "\n",
    "    Args:\n",
    "        result (dict): The raw search result from Google Serper API.\n",
    "\n",
    "    Returns:\n",
    "        list: A list of Document objects containing formatted search results.\n",
    "\n",
    "    This function processes both Knowledge Graph and organic search results.\n",
    "    If an error occurs or no results are found, it returns a Document with an error message.\n",
    "    \"\"\"\n",
    "    documents = []\n",
    "    \n",
    "    try:\n",
    "        # Process Knowledge Graph results if present\n",
    "        if 'knowledgeGraph' in result:\n",
    "            kg = result['knowledgeGraph']\n",
    "            doc = Document(\n",
    "                page_content=kg.get('description', ''),\n",
    "                metadata={\n",
    "                    'source': kg.get('descriptionLink', ''),\n",
    "                    'title': kg.get('title', ''),\n",
    "                }\n",
    "            )\n",
    "            documents.append(doc)\n",
    "        \n",
    "        # Process organic search results\n",
    "        if 'organic' in result:\n",
    "            for item in result['organic']:\n",
    "                doc = Document(\n",
    "                    page_content=item.get('snippet', ''),\n",
    "                    metadata={\n",
    "                        'source': item.get('link', ''),\n",
    "                        'title': item.get('title', ''),\n",
    "                    }\n",
    "                )\n",
    "                documents.append(doc)\n",
    "        \n",
    "        # Raise an error if no results were found\n",
    "        if not documents:\n",
    "            raise ValueError(\"No search results found\")\n",
    "        \n",
    "    except Exception as e:\n",
    "        # Handle any exceptions and return an error Document\n",
    "        print(f\"An error occurred: {str(e)}\")\n",
    "        documents.append(Document(\n",
    "            page_content=\"No search results found or an error occurred.\",\n",
    "            metadata={'source': 'Error', 'title': 'Search Error'}\n",
    "        ))\n",
    "    return documents\n",
    "\n"
   ]
  },
  {
   "cell_type": "code",
   "execution_count": 126,
   "metadata": {},
   "outputs": [
    {
     "data": {
      "text/plain": [
       "[Document(metadata={'source': 'https://en.wikipedia.org/wiki/China', 'title': 'China - Wikipedia'}, page_content=\"China, officially the People's Republic of China (PRC), is a country in East Asia. With a population exceeding 1.4 billion, it is the second-most populous ...\"),\n",
       " Document(metadata={'source': 'https://www.britannica.com/place/China', 'title': 'China | Events, People, Dates, Flag, Map, & Facts | Britannica'}, page_content='China is a country of East Asia. It is the largest of all Asian countries and has one of the largest populations of any country in the world.'),\n",
       " Document(metadata={'source': 'https://kids.nationalgeographic.com/geography/countries/article/china', 'title': 'China Country Profile - National Geographic Kids'}, page_content='Stretching 3100 miles (5000 kilometers) from east to west and 3400 miles (5500 kilometers) from north to south, China is a large country with widely varying ...'),\n",
       " Document(metadata={'source': 'https://www.cia.gov/the-world-factbook/countries/china/', 'title': 'China - The World Factbook - CIA'}, page_content=\"China has been among the world's fastest growing economies, with real gross domestic product averaging over 9% growth annually through 2021.\")]"
      ]
     },
     "execution_count": 126,
     "metadata": {},
     "output_type": "execute_result"
    }
   ],
   "source": [
    "\n",
    "ggsearch_reformat(google_result)"
   ]
  },
  {
   "cell_type": "markdown",
   "metadata": {},
   "source": [
    "# Reader API by Jina AI"
   ]
  },
  {
   "cell_type": "markdown",
   "metadata": {},
   "source": [
    "This tool makes it easy to scrape information from the web.\n"
   ]
  },
  {
   "cell_type": "code",
   "execution_count": 129,
   "metadata": {},
   "outputs": [],
   "source": [
    "import requests\n",
    "\n",
    "def scrape_jina_ai(url: str) -> str:\n",
    "  response = requests.get(\"https://r.jina.ai/\" + url)\n",
    "  return response.text"
   ]
  },
  {
   "cell_type": "code",
   "execution_count": 131,
   "metadata": {},
   "outputs": [
    {
     "name": "stdout",
     "output_type": "stream",
     "text": [
      "Title: Sales Factory | Growing Home Retail Brands\n",
      "\n",
      "URL Source: https://www.salesfactory.com/\n",
      "\n",
      "Markdown Content:\n",
      "* * *\n",
      "\n",
      "Retail marketing solutions built for an unpredictable world.\n",
      "------------------------------------------------------------\n",
      "\n",
      "Sales Factory is a data-driven marketing agency that helps brands win by focusing on one thing: selling in and selling through at retail.\n",
      "\n",
      "* * *\n",
      "\n",
      "Sell In. Sell Through.  \n",
      "Win at Retail.\n",
      "---------------------------------------\n",
      "\n",
      "You can't outperform your competitors at retail unless you truly understand how products sell in and sell through. That’s where we stand above the competition – yours and ours. Since 1984, our team has been helping brands get products onto the shelves at brick-and-mortar retail, outsell through e-commerce and optimize products in online stores.\n",
      "\n",
      "Being brave is easier when you know you’re right. Our insights team continuously monitors consumer behavior including in-depth analysis of Trades Professionals. We walk thousands of miles of store aisles annually and manage hundreds of thousands of research respondents with a data driven approach that's helped our clients thrive through economic bubbles and housing crises.\n",
      "\n",
      "![Image 1: homepage-retail-logos_8_22](https://www.salesfactory.com/hs-fs/hubfs/homepage-retail-logos_8_22.png?width=1411&height=201&name=homepage-retail-logos_8_22.png)\n",
      "\n",
      "* * *\n",
      "\n",
      "Innovation only comes to the relentlessly curious.\n",
      "--------------------------------------------------\n",
      "\n",
      "You can’t sit in an ivory tower and make meaningful breakthroughs. Innovation comes to those who roll up their sleeves and get their hands dirty doing the hard work.\n",
      "\n",
      "We learn who the prospect is by working alongside them, seeing the retail experience through their eyes, and walking many miles in their shoes to understand their pain points. Then we craft a brand experience they’ll love and never forget.\n",
      "\n",
      "* * *\n",
      "\n",
      "Find out how our approach drives sales at retail.\n",
      "-------------------------------------------------\n",
      "\n",
      "![Image 2: Ready to learn, grow and win at retail?](https://f.hubspotusercontent40.net/hub/8446995/hubfs/Spotlight%20-%20Sales%20Factory%20-%20Blue.jpg?width=1500&length=1500&name=Spotlight%20-%20Sales%20Factory%20-%20Blue.jpg)\n",
      "\n",
      "* * *\n",
      "\n",
      "Ready to learn, grow and win at retail?\n",
      "---------------------------------------\n",
      "\n",
      "Energize your brand with brilliance, talent and hard work by tomorrow. We’re ready when you are.\n",
      "\n",
      "* * *\n",
      "\n",
      "We partner with retail brands who can’t wait to learn, grow, and win.\n",
      "---------------------------------------------------------------------\n",
      "\n",
      "We work with retail brands who are relentlessly curious about what really matters – the end user. When consumers deem a retail product essential, from tools to frozen treats, we build solutions that enhance not only the buying experience but also the true measure of a brand – the user experience.\n",
      "\n",
      "Since 1984 we’ve been helping brands evolve, penetrate the right retail shelves, and establish digital dominance to grow sales at retail. Here are just a few of the brands we’ve helped win.\n",
      "\n",
      "* * *\n",
      "\n",
      "The Retail Learning Center\n",
      "--------------------------\n",
      "\n",
      "The most comprehensive collection of Expert News & Insights about Retail **anywhere**.\n",
      "\n",
      "*   * * *\n",
      "    \n",
      "    20+ Videos\n",
      "*   * * *\n",
      "    \n",
      "    100+ Articles\n",
      "\n",
      "Read one of our latest articles or choose from one of the following topics:\n",
      "\n",
      "*   Product Line Review\n",
      "*   Ecommerce\n",
      "*   Amazon\n",
      "*   Research\n",
      "*   Branding\n",
      "\n",
      "consumer research\n",
      "\n",
      "![Image 3: How to Spot High-Quality Consumer Data That Drives Decisions](https://8446995.fs1.hubspotusercontent-na1.net/hub/8446995/hubfs/Data%20-%20SF%20Brand%20Image%20-%20Green.png?width=800&length=800&name=Data%20-%20SF%20Brand%20Image%20-%20Green.png)\n",
      "\n",
      "consumer pulse\n",
      "\n",
      "![Image 4: Consumer Pulse | October 3, 2024 | Building Trust in the AI Era](https://8446995.fs1.hubspotusercontent-na1.net/hub/8446995/hubfs/Building%20Trust%20in%20AI%20Era-Header.jpg?width=800&length=800&name=Building%20Trust%20in%20AI%20Era-Header.jpg)\n",
      "\n",
      "> ![Image 5: Sales Factory Quote](https://www.salesfactory.com/hubfs/slider-quote.png)Having a great product isn’t enough—you need to understand what drives consumer behavior. Through research and category insights, Sales Factory helped us transform an unknown brand into a category leader.\n",
      "> \n",
      "> William Cobb, CEO, Coastal Shower Doors\n",
      "> \n",
      "> [coastalshowerdoors.com](https://coastalshowerdoors.com/)\n",
      "\n",
      "![Image 6: Sales-Factory-go-go-go-graphic-1](https://www.salesfactory.com/hubfs/Sales-Factory-go-go-go-graphic-1.jpg)\n",
      "\n",
      "* * *\n",
      "\n",
      "We need to talk.\n",
      "----------------\n",
      "\n",
      "Energize your brand with brilliance, talent, and hard work by tomorrow. We’re ready when you are.\n",
      "\n",
      "By clicking the button above, we'll use your info to reach out to you directly and to keep you updated on news, events, and more. You can unsubscribe from these communications at any time. For more info, please review our [Privacy Policy.](https://salesfactory.com/privacy-policy/?hsLang=en)\n",
      "\n"
     ]
    }
   ],
   "source": [
    "content = scrape_jina_ai(\"https://www.salesfactory.com/\")\n",
    "print(content)\n"
   ]
  },
  {
   "cell_type": "markdown",
   "metadata": {},
   "source": [
    "didn't extract as much content as firecrawl, but the format is just as great, but it's free\n"
   ]
  },
  {
   "cell_type": "markdown",
   "metadata": {},
   "source": [
    "# Other API sources"
   ]
  },
  {
   "cell_type": "markdown",
   "metadata": {},
   "source": [
    "Here are a list of other API sources that could be used to extract information\n",
    "\n",
    "https://guides.lib.berkeley.edu/c.php?g=4395&p=7995952 \n"
   ]
  }
 ],
 "metadata": {
  "kernelspec": {
   "display_name": "agent_tool_venv",
   "language": "python",
   "name": "python3"
  },
  "language_info": {
   "codemirror_mode": {
    "name": "ipython",
    "version": 3
   },
   "file_extension": ".py",
   "mimetype": "text/x-python",
   "name": "python",
   "nbconvert_exporter": "python",
   "pygments_lexer": "ipython3",
   "version": "3.12.4"
  }
 },
 "nbformat": 4,
 "nbformat_minor": 2
}
